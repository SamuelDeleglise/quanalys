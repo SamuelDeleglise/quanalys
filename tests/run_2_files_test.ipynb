{
 "cells": [
  {
   "cell_type": "code",
   "execution_count": 1,
   "metadata": {},
   "outputs": [
    {
     "ename": "FileLockedError",
     "evalue": "File locked and cannot be opened in write mode",
     "output_type": "error",
     "traceback": [
      "\u001b[0;31m---------------------------------------------------------------------------\u001b[0m",
      "\u001b[0;31mFileLockedError\u001b[0m                           Traceback (most recent call last)",
      "\u001b[1;32m/Users/4cd87a/Documents/Projects/PhD/codes/acquisition_utils/tests/run_2_files_test.ipynb Cell 1\u001b[0m in \u001b[0;36m<cell line: 30>\u001b[0;34m()\u001b[0m\n\u001b[1;32m     <a href='vscode-notebook-cell:/Users/4cd87a/Documents/Projects/PhD/codes/acquisition_utils/tests/run_2_files_test.ipynb#W3sZmlsZQ%3D%3D?line=25'>26</a>\u001b[0m \u001b[39mwhile\u001b[39;00m(write_long_data\u001b[39m.\u001b[39mstdout\u001b[39m.\u001b[39mreadline()\u001b[39m.\u001b[39mdecode()\u001b[39m.\u001b[39mstrip()\u001b[39m!=\u001b[39m\u001b[39m\"\u001b[39m\u001b[39mstart\u001b[39m\u001b[39m\"\u001b[39m): \u001b[39m# type: ignore\u001b[39;00m\n\u001b[1;32m     <a href='vscode-notebook-cell:/Users/4cd87a/Documents/Projects/PhD/codes/acquisition_utils/tests/run_2_files_test.ipynb#W3sZmlsZQ%3D%3D?line=26'>27</a>\u001b[0m     \u001b[39mpass\u001b[39;00m\n\u001b[0;32m---> <a href='vscode-notebook-cell:/Users/4cd87a/Documents/Projects/PhD/codes/acquisition_utils/tests/run_2_files_test.ipynb#W3sZmlsZQ%3D%3D?line=29'>30</a>\u001b[0m sd[\u001b[39m'\u001b[39m\u001b[39mparam2\u001b[39m\u001b[39m'\u001b[39m] \u001b[39m=\u001b[39m big_array\n\u001b[1;32m     <a href='vscode-notebook-cell:/Users/4cd87a/Documents/Projects/PhD/codes/acquisition_utils/tests/run_2_files_test.ipynb#W3sZmlsZQ%3D%3D?line=31'>32</a>\u001b[0m write_long_data\u001b[39m.\u001b[39mwait()\n",
      "File \u001b[0;32m~/Documents/Projects/PhD/codes/acquisition_utils/labmate/syncdata/syncdata_class.py:17\u001b[0m, in \u001b[0;36mediting.<locals>.run_func_and_clean_precalculated_results\u001b[0;34m(self, *args, **kwargs)\u001b[0m\n\u001b[1;32m     15\u001b[0m \u001b[39mself\u001b[39m\u001b[39m.\u001b[39m_clean_precalculated_results()  \u001b[39m# pylint: disable=W0212\u001b[39;00m\n\u001b[1;32m     16\u001b[0m \u001b[39mif\u001b[39;00m \u001b[39mself\u001b[39m\u001b[39m.\u001b[39m_save_on_edit:  \u001b[39m# pylint: disable=W0212\u001b[39;00m\n\u001b[0;32m---> 17\u001b[0m     \u001b[39mself\u001b[39;49m\u001b[39m.\u001b[39;49msave(just_update\u001b[39m=\u001b[39;49m\u001b[39mTrue\u001b[39;49;00m)\n\u001b[1;32m     18\u001b[0m \u001b[39mreturn\u001b[39;00m res\n",
      "File \u001b[0;32m~/Documents/Projects/PhD/codes/acquisition_utils/labmate/syncdata/syncdata_class.py:315\u001b[0m, in \u001b[0;36mSyncData.save\u001b[0;34m(self, just_update, filepath)\u001b[0m\n\u001b[1;32m    313\u001b[0m         \u001b[39melse\u001b[39;00m:\n\u001b[1;32m    314\u001b[0m             \u001b[39mself\u001b[39m\u001b[39m.\u001b[39m_classes_should_be_saved_internally\u001b[39m.\u001b[39mremove(key)\n\u001b[0;32m--> 315\u001b[0m \u001b[39mself\u001b[39;49m\u001b[39m.\u001b[39;49m__h5py_utils_save_dict_with_retry(\n\u001b[1;32m    316\u001b[0m     filepath\u001b[39m=\u001b[39;49mfilepath,\n\u001b[1;32m    317\u001b[0m     data\u001b[39m=\u001b[39;49m{key: \u001b[39mself\u001b[39;49m\u001b[39m.\u001b[39;49m_data\u001b[39m.\u001b[39;49mget(key, \u001b[39mNone\u001b[39;49;00m) \u001b[39mfor\u001b[39;49;00m key \u001b[39min\u001b[39;49;00m last_update\n\u001b[1;32m    318\u001b[0m           \u001b[39mif\u001b[39;49;00m key \u001b[39mnot\u001b[39;49;00m \u001b[39min\u001b[39;49;00m \u001b[39mself\u001b[39;49m\u001b[39m.\u001b[39;49m_classes_should_be_saved_internally})\n\u001b[1;32m    320\u001b[0m \u001b[39mreturn\u001b[39;00m \u001b[39mself\u001b[39m\n",
      "File \u001b[0;32m~/Documents/Projects/PhD/codes/acquisition_utils/labmate/syncdata/syncdata_class.py:333\u001b[0m, in \u001b[0;36mSyncData.__h5py_utils_save_dict_with_retry\u001b[0;34m(self, filepath, data)\u001b[0m\n\u001b[1;32m    331\u001b[0m \u001b[39mexcept\u001b[39;00m h5py_utils\u001b[39m.\u001b[39mFileLockedError \u001b[39mas\u001b[39;00m error:\n\u001b[1;32m    332\u001b[0m     \u001b[39mif\u001b[39;00m \u001b[39mself\u001b[39m\u001b[39m.\u001b[39m_raise_file_locked_error:\n\u001b[0;32m--> 333\u001b[0m         \u001b[39mraise\u001b[39;00m error\n\u001b[1;32m    334\u001b[0m     logging\u001b[39m.\u001b[39minfo(\u001b[39m\"\u001b[39m\u001b[39mFile is locked. waiting 2s and \u001b[39m\u001b[39m%d\u001b[39;00m\u001b[39m more retrying.\u001b[39m\u001b[39m\"\u001b[39m, i)\n\u001b[1;32m    335\u001b[0m     async_utils\u001b[39m.\u001b[39msleep(\u001b[39m2\u001b[39m)\n",
      "File \u001b[0;32m~/Documents/Projects/PhD/codes/acquisition_utils/labmate/syncdata/syncdata_class.py:327\u001b[0m, in \u001b[0;36mSyncData.__h5py_utils_save_dict_with_retry\u001b[0;34m(self, filepath, data)\u001b[0m\n\u001b[1;32m    324\u001b[0m \u001b[39mfor\u001b[39;00m i \u001b[39min\u001b[39;00m \u001b[39mrange\u001b[39m(\u001b[39mself\u001b[39m\u001b[39m.\u001b[39m_retry_on_file_locked_error):\n\u001b[1;32m    325\u001b[0m     \u001b[39mtry\u001b[39;00m:\n\u001b[1;32m    326\u001b[0m         \u001b[39m# print(\"_raise_file_locked_error\", self._raise_file_locked_error, list(data.keys()))\u001b[39;00m\n\u001b[0;32m--> 327\u001b[0m         \u001b[39mreturn\u001b[39;00m h5py_utils\u001b[39m.\u001b[39;49msave_dict(\n\u001b[1;32m    328\u001b[0m             filename\u001b[39m=\u001b[39;49mfilepath \u001b[39m+\u001b[39;49m \u001b[39m'\u001b[39;49m\u001b[39m.h5\u001b[39;49m\u001b[39m'\u001b[39;49m,\n\u001b[1;32m    329\u001b[0m             data\u001b[39m=\u001b[39;49mdata\n\u001b[1;32m    330\u001b[0m         )\n\u001b[1;32m    331\u001b[0m     \u001b[39mexcept\u001b[39;00m h5py_utils\u001b[39m.\u001b[39mFileLockedError \u001b[39mas\u001b[39;00m error:\n\u001b[1;32m    332\u001b[0m         \u001b[39mif\u001b[39;00m \u001b[39mself\u001b[39m\u001b[39m.\u001b[39m_raise_file_locked_error:\n",
      "File \u001b[0;32m~/Documents/Projects/PhD/codes/acquisition_utils/labmate/syncdata/h5py_utils.py:105\u001b[0m, in \u001b[0;36msave_dict\u001b[0;34m(filename, data)\u001b[0m\n\u001b[1;32m    103\u001b[0m     os\u001b[39m.\u001b[39mmakedirs(os\u001b[39m.\u001b[39mpath\u001b[39m.\u001b[39mdirname(filename))\n\u001b[1;32m    104\u001b[0m mode \u001b[39m=\u001b[39m \u001b[39m'\u001b[39m\u001b[39ma\u001b[39m\u001b[39m'\u001b[39m  \u001b[39m# if os.path.exists(filename) else 'w'\u001b[39;00m\n\u001b[0;32m--> 105\u001b[0m \u001b[39mwith\u001b[39;00m LockFile(filename):\n\u001b[1;32m    106\u001b[0m     \u001b[39mwith\u001b[39;00m h5py\u001b[39m.\u001b[39mFile(filename, mode) \u001b[39mas\u001b[39;00m file:\n\u001b[1;32m    107\u001b[0m         \u001b[39mfor\u001b[39;00m key, value \u001b[39min\u001b[39;00m data\u001b[39m.\u001b[39mitems():\n",
      "File \u001b[0;32m~/Documents/Projects/PhD/codes/acquisition_utils/labmate/syncdata/h5py_utils.py:36\u001b[0m, in \u001b[0;36mLockFile.__enter__\u001b[0;34m(self)\u001b[0m\n\u001b[1;32m     34\u001b[0m \u001b[39mdef\u001b[39;00m \u001b[39m__enter__\u001b[39m(\u001b[39mself\u001b[39m):\n\u001b[1;32m     35\u001b[0m     \u001b[39mif\u001b[39;00m os\u001b[39m.\u001b[39mpath\u001b[39m.\u001b[39mexists(\u001b[39mself\u001b[39m\u001b[39m.\u001b[39mlock_filename):\n\u001b[0;32m---> 36\u001b[0m         \u001b[39mraise\u001b[39;00m FileLockedError(\u001b[39m\"\u001b[39m\u001b[39mFile locked and cannot be opened in write mode\u001b[39m\u001b[39m\"\u001b[39m)\n\u001b[1;32m     37\u001b[0m     \u001b[39mwith\u001b[39;00m \u001b[39mopen\u001b[39m(\u001b[39mself\u001b[39m\u001b[39m.\u001b[39mlock_filename, \u001b[39m'\u001b[39m\u001b[39mw\u001b[39m\u001b[39m'\u001b[39m, encoding\u001b[39m=\u001b[39m\u001b[39m'\u001b[39m\u001b[39mutf-8\u001b[39m\u001b[39m'\u001b[39m):\n\u001b[1;32m     38\u001b[0m         \u001b[39mpass\u001b[39;00m\n",
      "\u001b[0;31mFileLockedError\u001b[0m: File locked and cannot be opened in write mode"
     ]
    }
   ],
   "source": [
    "import os\n",
    "import subprocess\n",
    "\n",
    "import numpy as np\n",
    "from labmate.utils.async_utils import sleep\n",
    "from labmate.syncdata import SyncData\n",
    "# from labmate.syncdata import FileLockedError\n",
    "TEST_DIR = r'/Users/4cd87a/Documents/Projects/PhD/codes/acquisition_utils/tests/'\n",
    "DATA_DIR = os.path.join(TEST_DIR, \"tmp_test_data\")\n",
    "DATA_FILE_PATH = \"/Users/4cd87a/Documents/Projects/PhD/codes/acquisition_utils/tests/tmp_test_data/some_data.h5\"\n",
    "\n",
    "\n",
    "big_array = np.zeros(shape=(5000, 10000))\n",
    "\n",
    "\n",
    "write_long_data = subprocess.Popen(\n",
    "    [\"python\", os.path.join(TEST_DIR, \"save_long_data.py\")],\n",
    "    stdout=subprocess.PIPE)\n",
    "\n",
    "sd = SyncData(DATA_FILE_PATH,\n",
    "              read_only=False, save_on_edit=True,\n",
    "              overwrite=False, open_on_init=False)\n",
    "\n",
    "sd._raise_file_locked_error = True  # pylint: disable=protected-access\n",
    "\n",
    "while(write_long_data.stdout.readline().decode().strip()!=\"start\"): # type: ignore\n",
    "    pass\n",
    "\n",
    "\n",
    "sd['param2'] = big_array\n",
    "\n",
    "write_long_data.wait()\n",
    "\n"
   ]
  },
  {
   "cell_type": "code",
   "execution_count": 2,
   "metadata": {},
   "outputs": [
    {
     "data": {
      "text/plain": [
       "0"
      ]
     },
     "execution_count": 2,
     "metadata": {},
     "output_type": "execute_result"
    }
   ],
   "source": [
    "import os\n",
    "import subprocess\n",
    "\n",
    "import numpy as np\n",
    "from labmate.utils.async_utils import sleep\n",
    "from labmate.syncdata import SyncData\n",
    "# from labmate.syncdata import FileLockedError\n",
    "TEST_DIR = r'/Users/4cd87a/Documents/Projects/PhD/codes/acquisition_utils/tests/'\n",
    "DATA_DIR = os.path.join(TEST_DIR, \"tmp_test_data\")\n",
    "DATA_FILE_PATH = \"/Users/4cd87a/Documents/Projects/PhD/codes/acquisition_utils/tests/tmp_test_data/some_data.h5\"\n",
    "\n",
    "\n",
    "big_array = np.zeros(shape=(5000, 10000))\n",
    "\n",
    "\n",
    "write_long_data = subprocess.Popen(\n",
    "    [\"python\", os.path.join(TEST_DIR, \"save_long_data.py\")],\n",
    "    stdout=subprocess.PIPE)\n",
    "\n",
    "sd = SyncData(DATA_FILE_PATH,\n",
    "              read_only=False, save_on_edit=True,\n",
    "              overwrite=False, open_on_init=False)\n",
    "\n",
    "sd._raise_file_locked_error = False  # pylint: disable=protected-access\n",
    "\n",
    "while(write_long_data.stdout.readline().decode().strip()!=\"start\"): # type: ignore\n",
    "    pass\n",
    "\n",
    "\n",
    "sd['param2'] = big_array\n",
    "\n",
    "write_long_data.wait()\n",
    "\n"
   ]
  },
  {
   "cell_type": "code",
   "execution_count": 3,
   "metadata": {},
   "outputs": [
    {
     "name": "stdout",
     "output_type": "stream",
     "text": [
      "start\n"
     ]
    },
    {
     "ename": "FileLockedError",
     "evalue": "File locked and cannot be opened in write mode",
     "output_type": "error",
     "traceback": [
      "\u001b[0;31m---------------------------------------------------------------------------\u001b[0m",
      "\u001b[0;31mFileLockedError\u001b[0m                           Traceback (most recent call last)",
      "\u001b[1;32m/Users/4cd87a/Documents/Projects/PhD/codes/acquisition_utils/tests/run_2_files_test.ipynb Cell 3\u001b[0m in \u001b[0;36m<cell line: 35>\u001b[0;34m()\u001b[0m\n\u001b[1;32m     <a href='vscode-notebook-cell:/Users/4cd87a/Documents/Projects/PhD/codes/acquisition_utils/tests/run_2_files_test.ipynb#W2sZmlsZQ%3D%3D?line=27'>28</a>\u001b[0m \u001b[39mprint\u001b[39m(s)\n\u001b[1;32m     <a href='vscode-notebook-cell:/Users/4cd87a/Documents/Projects/PhD/codes/acquisition_utils/tests/run_2_files_test.ipynb#W2sZmlsZQ%3D%3D?line=28'>29</a>\u001b[0m \u001b[39m# while(s := write_long_data.stdout.readline().decode().strip()) != \"start\" or s != \"\":  # type: ignore\u001b[39;00m\n\u001b[1;32m     <a href='vscode-notebook-cell:/Users/4cd87a/Documents/Projects/PhD/codes/acquisition_utils/tests/run_2_files_test.ipynb#W2sZmlsZQ%3D%3D?line=29'>30</a>\u001b[0m \u001b[39m# print(s)\u001b[39;00m\n\u001b[1;32m     <a href='vscode-notebook-cell:/Users/4cd87a/Documents/Projects/PhD/codes/acquisition_utils/tests/run_2_files_test.ipynb#W2sZmlsZQ%3D%3D?line=30'>31</a>\u001b[0m \n\u001b[1;32m     <a href='vscode-notebook-cell:/Users/4cd87a/Documents/Projects/PhD/codes/acquisition_utils/tests/run_2_files_test.ipynb#W2sZmlsZQ%3D%3D?line=31'>32</a>\u001b[0m \u001b[39m# print()\u001b[39;00m\n\u001b[0;32m---> <a href='vscode-notebook-cell:/Users/4cd87a/Documents/Projects/PhD/codes/acquisition_utils/tests/run_2_files_test.ipynb#W2sZmlsZQ%3D%3D?line=34'>35</a>\u001b[0m sd[\u001b[39m'\u001b[39m\u001b[39mparam2\u001b[39m\u001b[39m'\u001b[39m] \u001b[39m=\u001b[39m big_array\n\u001b[1;32m     <a href='vscode-notebook-cell:/Users/4cd87a/Documents/Projects/PhD/codes/acquisition_utils/tests/run_2_files_test.ipynb#W2sZmlsZQ%3D%3D?line=36'>37</a>\u001b[0m write_long_data\u001b[39m.\u001b[39mwait()\n",
      "File \u001b[0;32m~/Documents/Projects/PhD/codes/acquisition_utils/labmate/syncdata/syncdata_class.py:17\u001b[0m, in \u001b[0;36mediting.<locals>.run_func_and_clean_precalculated_results\u001b[0;34m(self, *args, **kwargs)\u001b[0m\n\u001b[1;32m     15\u001b[0m \u001b[39mself\u001b[39m\u001b[39m.\u001b[39m_clean_precalculated_results()  \u001b[39m# pylint: disable=W0212\u001b[39;00m\n\u001b[1;32m     16\u001b[0m \u001b[39mif\u001b[39;00m \u001b[39mself\u001b[39m\u001b[39m.\u001b[39m_save_on_edit:  \u001b[39m# pylint: disable=W0212\u001b[39;00m\n\u001b[0;32m---> 17\u001b[0m     \u001b[39mself\u001b[39;49m\u001b[39m.\u001b[39;49msave(just_update\u001b[39m=\u001b[39;49m\u001b[39mTrue\u001b[39;49;00m)\n\u001b[1;32m     18\u001b[0m \u001b[39mreturn\u001b[39;00m res\n",
      "File \u001b[0;32m~/Documents/Projects/PhD/codes/acquisition_utils/labmate/syncdata/syncdata_class.py:315\u001b[0m, in \u001b[0;36mSyncData.save\u001b[0;34m(self, just_update, filepath)\u001b[0m\n\u001b[1;32m    313\u001b[0m         \u001b[39melse\u001b[39;00m:\n\u001b[1;32m    314\u001b[0m             \u001b[39mself\u001b[39m\u001b[39m.\u001b[39m_classes_should_be_saved_internally\u001b[39m.\u001b[39mremove(key)\n\u001b[0;32m--> 315\u001b[0m \u001b[39mself\u001b[39;49m\u001b[39m.\u001b[39;49m__h5py_utils_save_dict_with_retry(\n\u001b[1;32m    316\u001b[0m     filepath\u001b[39m=\u001b[39;49mfilepath,\n\u001b[1;32m    317\u001b[0m     data\u001b[39m=\u001b[39;49m{key: \u001b[39mself\u001b[39;49m\u001b[39m.\u001b[39;49m_data\u001b[39m.\u001b[39;49mget(key, \u001b[39mNone\u001b[39;49;00m) \u001b[39mfor\u001b[39;49;00m key \u001b[39min\u001b[39;49;00m last_update\n\u001b[1;32m    318\u001b[0m           \u001b[39mif\u001b[39;49;00m key \u001b[39mnot\u001b[39;49;00m \u001b[39min\u001b[39;49;00m \u001b[39mself\u001b[39;49m\u001b[39m.\u001b[39;49m_classes_should_be_saved_internally})\n\u001b[1;32m    320\u001b[0m \u001b[39mreturn\u001b[39;00m \u001b[39mself\u001b[39m\n",
      "File \u001b[0;32m~/Documents/Projects/PhD/codes/acquisition_utils/labmate/syncdata/syncdata_class.py:333\u001b[0m, in \u001b[0;36mSyncData.__h5py_utils_save_dict_with_retry\u001b[0;34m(self, filepath, data)\u001b[0m\n\u001b[1;32m    331\u001b[0m \u001b[39mexcept\u001b[39;00m h5py_utils\u001b[39m.\u001b[39mFileLockedError \u001b[39mas\u001b[39;00m error:\n\u001b[1;32m    332\u001b[0m     \u001b[39mif\u001b[39;00m \u001b[39mself\u001b[39m\u001b[39m.\u001b[39m_raise_file_locked_error:\n\u001b[0;32m--> 333\u001b[0m         \u001b[39mraise\u001b[39;00m error\n\u001b[1;32m    334\u001b[0m     logging\u001b[39m.\u001b[39minfo(\u001b[39m\"\u001b[39m\u001b[39mFile is locked. waiting 2s and \u001b[39m\u001b[39m%d\u001b[39;00m\u001b[39m more retrying.\u001b[39m\u001b[39m\"\u001b[39m, i)\n\u001b[1;32m    335\u001b[0m     async_utils\u001b[39m.\u001b[39msleep(\u001b[39m2\u001b[39m)\n",
      "File \u001b[0;32m~/Documents/Projects/PhD/codes/acquisition_utils/labmate/syncdata/syncdata_class.py:327\u001b[0m, in \u001b[0;36mSyncData.__h5py_utils_save_dict_with_retry\u001b[0;34m(self, filepath, data)\u001b[0m\n\u001b[1;32m    324\u001b[0m \u001b[39mfor\u001b[39;00m i \u001b[39min\u001b[39;00m \u001b[39mrange\u001b[39m(\u001b[39mself\u001b[39m\u001b[39m.\u001b[39m_retry_on_file_locked_error):\n\u001b[1;32m    325\u001b[0m     \u001b[39mtry\u001b[39;00m:\n\u001b[1;32m    326\u001b[0m         \u001b[39m# print(\"_raise_file_locked_error\", self._raise_file_locked_error, list(data.keys()))\u001b[39;00m\n\u001b[0;32m--> 327\u001b[0m         \u001b[39mreturn\u001b[39;00m h5py_utils\u001b[39m.\u001b[39;49msave_dict(\n\u001b[1;32m    328\u001b[0m             filename\u001b[39m=\u001b[39;49mfilepath \u001b[39m+\u001b[39;49m \u001b[39m'\u001b[39;49m\u001b[39m.h5\u001b[39;49m\u001b[39m'\u001b[39;49m,\n\u001b[1;32m    329\u001b[0m             data\u001b[39m=\u001b[39;49mdata\n\u001b[1;32m    330\u001b[0m         )\n\u001b[1;32m    331\u001b[0m     \u001b[39mexcept\u001b[39;00m h5py_utils\u001b[39m.\u001b[39mFileLockedError \u001b[39mas\u001b[39;00m error:\n\u001b[1;32m    332\u001b[0m         \u001b[39mif\u001b[39;00m \u001b[39mself\u001b[39m\u001b[39m.\u001b[39m_raise_file_locked_error:\n",
      "File \u001b[0;32m~/Documents/Projects/PhD/codes/acquisition_utils/labmate/syncdata/h5py_utils.py:105\u001b[0m, in \u001b[0;36msave_dict\u001b[0;34m(filename, data)\u001b[0m\n\u001b[1;32m    103\u001b[0m     os\u001b[39m.\u001b[39mmakedirs(os\u001b[39m.\u001b[39mpath\u001b[39m.\u001b[39mdirname(filename))\n\u001b[1;32m    104\u001b[0m mode \u001b[39m=\u001b[39m \u001b[39m'\u001b[39m\u001b[39ma\u001b[39m\u001b[39m'\u001b[39m  \u001b[39m# if os.path.exists(filename) else 'w'\u001b[39;00m\n\u001b[0;32m--> 105\u001b[0m \u001b[39mwith\u001b[39;00m LockFile(filename):\n\u001b[1;32m    106\u001b[0m     \u001b[39mwith\u001b[39;00m h5py\u001b[39m.\u001b[39mFile(filename, mode) \u001b[39mas\u001b[39;00m file:\n\u001b[1;32m    107\u001b[0m         \u001b[39mfor\u001b[39;00m key, value \u001b[39min\u001b[39;00m data\u001b[39m.\u001b[39mitems():\n",
      "File \u001b[0;32m~/Documents/Projects/PhD/codes/acquisition_utils/labmate/syncdata/h5py_utils.py:36\u001b[0m, in \u001b[0;36mLockFile.__enter__\u001b[0;34m(self)\u001b[0m\n\u001b[1;32m     34\u001b[0m \u001b[39mdef\u001b[39;00m \u001b[39m__enter__\u001b[39m(\u001b[39mself\u001b[39m):\n\u001b[1;32m     35\u001b[0m     \u001b[39mif\u001b[39;00m os\u001b[39m.\u001b[39mpath\u001b[39m.\u001b[39mexists(\u001b[39mself\u001b[39m\u001b[39m.\u001b[39mlock_filename):\n\u001b[0;32m---> 36\u001b[0m         \u001b[39mraise\u001b[39;00m FileLockedError(\u001b[39m\"\u001b[39m\u001b[39mFile locked and cannot be opened in write mode\u001b[39m\u001b[39m\"\u001b[39m)\n\u001b[1;32m     37\u001b[0m     \u001b[39mwith\u001b[39;00m \u001b[39mopen\u001b[39m(\u001b[39mself\u001b[39m\u001b[39m.\u001b[39mlock_filename, \u001b[39m'\u001b[39m\u001b[39mw\u001b[39m\u001b[39m'\u001b[39m, encoding\u001b[39m=\u001b[39m\u001b[39m'\u001b[39m\u001b[39mutf-8\u001b[39m\u001b[39m'\u001b[39m):\n\u001b[1;32m     38\u001b[0m         \u001b[39mpass\u001b[39;00m\n",
      "\u001b[0;31mFileLockedError\u001b[0m: File locked and cannot be opened in write mode"
     ]
    }
   ],
   "source": [
    "import os\n",
    "import subprocess\n",
    "\n",
    "import numpy as np\n",
    "from labmate.utils.async_utils import sleep\n",
    "from labmate.syncdata import SyncData\n",
    "# from labmate.syncdata import FileLockedError\n",
    "TEST_DIR = r'/Users/4cd87a/Documents/Projects/PhD/codes/acquisition_utils/tests/'\n",
    "DATA_DIR = os.path.join(TEST_DIR, \"tmp_test_data\")\n",
    "DATA_FILE_PATH = \"/Users/4cd87a/Documents/Projects/PhD/codes/acquisition_utils/tests/tmp_test_data/some_data.h5\"\n",
    "\n",
    "\n",
    "big_array = np.zeros(shape=(5000, 10000))\n",
    "\n",
    "\n",
    "write_long_data = subprocess.Popen(\n",
    "    [\"python\", os.path.join(TEST_DIR, \"save_long_data.py\")],\n",
    "    stdout=subprocess.PIPE)\n",
    "\n",
    "sd = SyncData(DATA_FILE_PATH,\n",
    "              read_only=False, save_on_edit=True,\n",
    "              overwrite=False, open_on_init=False)\n",
    "\n",
    "sd._raise_file_locked_error = True  # pylint: disable=protected-access\n",
    "\n",
    "s = write_long_data.stdout.readline().decode().strip()\n",
    "\n",
    "print(s)\n",
    "# while(s := write_long_data.stdout.readline().decode().strip()) != \"start\" or s != \"\":  # type: ignore\n",
    "# print(s)\n",
    "\n",
    "# print()\n",
    "\n",
    "\n",
    "sd['param2'] = big_array\n",
    "\n",
    "write_long_data.wait()\n"
   ]
  },
  {
   "cell_type": "code",
   "execution_count": null,
   "metadata": {},
   "outputs": [],
   "source": []
  }
 ],
 "metadata": {
  "kernelspec": {
   "display_name": "phd_mask",
   "language": "python",
   "name": "python3"
  },
  "language_info": {
   "codemirror_mode": {
    "name": "ipython",
    "version": 3
   },
   "file_extension": ".py",
   "mimetype": "text/x-python",
   "name": "python",
   "nbconvert_exporter": "python",
   "pygments_lexer": "ipython3",
   "version": "3.10.0"
  },
  "orig_nbformat": 4,
  "vscode": {
   "interpreter": {
    "hash": "a3a6fc72abd763eb125834065b6047171dc313ddda04b6b04a8b85b371691e10"
   }
  }
 },
 "nbformat": 4,
 "nbformat_minor": 2
}
